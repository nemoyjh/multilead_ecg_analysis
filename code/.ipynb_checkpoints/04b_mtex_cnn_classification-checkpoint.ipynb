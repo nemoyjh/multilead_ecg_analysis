{
 "cells": [
  {
   "cell_type": "code",
   "execution_count": 1,
   "metadata": {},
   "outputs": [
    {
     "name": "stdout",
     "output_type": "stream",
     "text": [
      "1 Physical GPUs, 1 Logical GPUs\n"
     ]
    }
   ],
   "source": [
    "import numpy as np\n",
    "import scipy as sp\n",
    "import pandas as pd\n",
    "import matplotlib.pyplot as plt\n",
    "import seaborn as sns\n",
    "\n",
    "import os\n",
    "\n",
    "from sklearn.preprocessing import StandardScaler\n",
    "from sklearn.metrics import roc_auc_score, classification_report\n",
    "\n",
    "from tensorflow.keras.models import Sequential\n",
    "from tensorflow.keras.layers import Dense, Dropout, Input\n",
    "from tensorflow.keras.utils import to_categorical\n",
    "from tensorflow.keras.layers import Flatten, Conv1D, Conv2D, Conv3D, MaxPooling2D\n",
    "from tensorflow.python.client import device_lib\n",
    "\n",
    "from numpy.random import seed\n",
    "\n",
    "import tensorflow as tf\n",
    "\n",
    "#These lines are required in order to use GPU for neural networks\n",
    "\n",
    "os.environ['TF_XLA_FLAGS'] = '--tf_xla_enable_xla_devices'\n",
    "\n",
    "gpus= tf.config.experimental.list_physical_devices('GPU')\n",
    "\n",
    "if gpus:\n",
    "    try:\n",
    "    # Currently, memory growth needs to be the same across GPUs\n",
    "        for gpu in gpus:\n",
    "              tf.config.experimental.set_memory_growth(gpu, True)\n",
    "        logical_gpus = tf.config.experimental.list_logical_devices('GPU')\n",
    "        print(len(gpus), \"Physical GPUs,\", len(logical_gpus), \"Logical GPUs\")\n",
    "    except RuntimeError as e:\n",
    "        # Memory growth must be set before GPUs have been initialized\n",
    "        print(e)"
   ]
  },
  {
   "cell_type": "markdown",
   "metadata": {},
   "source": [
    "Check if Keras is running on GPU"
   ]
  },
  {
   "cell_type": "code",
   "execution_count": 2,
   "metadata": {},
   "outputs": [
    {
     "name": "stdout",
     "output_type": "stream",
     "text": [
      "Num of GPUs available:  13\n"
     ]
    }
   ],
   "source": [
    "print(\"Num of GPUs available: \", len(tf.test.gpu_device_name()))"
   ]
  },
  {
   "cell_type": "code",
   "execution_count": 3,
   "metadata": {},
   "outputs": [
    {
     "data": {
      "text/plain": [
       "True"
      ]
     },
     "execution_count": 3,
     "metadata": {},
     "output_type": "execute_result"
    }
   ],
   "source": [
    "tf.test.is_built_with_cuda()"
   ]
  },
  {
   "cell_type": "code",
   "execution_count": 4,
   "metadata": {},
   "outputs": [
    {
     "data": {
      "text/plain": [
       "'/device:GPU:0'"
      ]
     },
     "execution_count": 4,
     "metadata": {},
     "output_type": "execute_result"
    }
   ],
   "source": [
    "tf.test.gpu_device_name()"
   ]
  },
  {
   "cell_type": "markdown",
   "metadata": {},
   "source": [
    "## Section 4: MTEX-CNN\n",
    "\n",
    "This notebook is part 2 of classification and modeling, the first being the [Cascading Classifier](../code/04a_cascading_classifiers_modelling.ipynb). The analysis at the end of this notebook considers the MTEX-CNN and suggests possible future steps to take.\n",
    "\n",
    "This notebook is split into several parts\n",
    "\n",
    "1. [Importing the required data](#part-4-1-importing-the-required-data)\n",
    "2. [Defining and running MTEX-CNN](#part-4-2-defining-and-running-mtex-cnn)\n",
    "3. [Results](#part-4-3-results)\n",
    "4. [Analysis](#part-4-4-analysis)"
   ]
  },
  {
   "cell_type": "markdown",
   "metadata": {},
   "source": [
    "Set random seeds for reproducibility"
   ]
  },
  {
   "cell_type": "code",
   "execution_count": 5,
   "metadata": {},
   "outputs": [],
   "source": [
    "seed(42)\n",
    "tf.random.set_seed(42)"
   ]
  },
  {
   "cell_type": "markdown",
   "metadata": {},
   "source": [
    "<a id=part-4-1-importing-the-required-data></a>"
   ]
  },
  {
   "cell_type": "markdown",
   "metadata": {},
   "source": [
    "### Part 4.1: Importing the required data"
   ]
  },
  {
   "cell_type": "markdown",
   "metadata": {},
   "source": [
    "Importing raw_signals, combined_features_df, and meta_data_df"
   ]
  },
  {
   "cell_type": "code",
   "execution_count": 17,
   "metadata": {},
   "outputs": [],
   "source": [
    "#Load raw_signals in array format\n",
    "raw_signals = np.load('../data/data_analysis_files/ptb_raw_signals.npz')\n",
    "raw_signals = raw_signals['arr_0']"
   ]
  },
  {
   "cell_type": "code",
   "execution_count": 18,
   "metadata": {},
   "outputs": [
    {
     "data": {
      "text/plain": [
       "(21837, 1000, 12)"
      ]
     },
     "execution_count": 18,
     "metadata": {},
     "output_type": "execute_result"
    }
   ],
   "source": [
    "raw_signals.shape"
   ]
  },
  {
   "cell_type": "code",
   "execution_count": 19,
   "metadata": {},
   "outputs": [],
   "source": [
    "created_features_df = pd.read_csv('../data/features_df_folder/combined_features.csv')"
   ]
  },
  {
   "cell_type": "code",
   "execution_count": 20,
   "metadata": {},
   "outputs": [],
   "source": [
    "meta_data_df = pd.read_csv('../data/features_df_folder/meta_data_df.csv')"
   ]
  },
  {
   "cell_type": "code",
   "execution_count": 21,
   "metadata": {},
   "outputs": [
    {
     "data": {
      "text/html": [
       "<div>\n",
       "<style scoped>\n",
       "    .dataframe tbody tr th:only-of-type {\n",
       "        vertical-align: middle;\n",
       "    }\n",
       "\n",
       "    .dataframe tbody tr th {\n",
       "        vertical-align: top;\n",
       "    }\n",
       "\n",
       "    .dataframe thead th {\n",
       "        text-align: right;\n",
       "    }\n",
       "</style>\n",
       "<table border=\"1\" class=\"dataframe\">\n",
       "  <thead>\n",
       "    <tr style=\"text-align: right;\">\n",
       "      <th></th>\n",
       "      <th>ecg_id</th>\n",
       "      <th>patient_id</th>\n",
       "      <th>age</th>\n",
       "      <th>sex</th>\n",
       "      <th>height</th>\n",
       "      <th>weight</th>\n",
       "      <th>nurse</th>\n",
       "      <th>site</th>\n",
       "      <th>device</th>\n",
       "      <th>recording_date</th>\n",
       "      <th>...</th>\n",
       "      <th>strat_fold</th>\n",
       "      <th>filename_lr</th>\n",
       "      <th>filename_hr</th>\n",
       "      <th>diagnostic_superclass</th>\n",
       "      <th>CD</th>\n",
       "      <th>HYP</th>\n",
       "      <th>MI</th>\n",
       "      <th>NORM</th>\n",
       "      <th>NO_DIAG</th>\n",
       "      <th>STTC</th>\n",
       "    </tr>\n",
       "  </thead>\n",
       "  <tbody>\n",
       "    <tr>\n",
       "      <th>21832</th>\n",
       "      <td>21833</td>\n",
       "      <td>17180.0</td>\n",
       "      <td>67.0</td>\n",
       "      <td>1</td>\n",
       "      <td>NaN</td>\n",
       "      <td>NaN</td>\n",
       "      <td>1.0</td>\n",
       "      <td>2.0</td>\n",
       "      <td>AT-60    3</td>\n",
       "      <td>2001-05-31 09:14:35</td>\n",
       "      <td>...</td>\n",
       "      <td>7</td>\n",
       "      <td>records100/21000/21833_lr</td>\n",
       "      <td>records500/21000/21833_hr</td>\n",
       "      <td>STTC</td>\n",
       "      <td>0</td>\n",
       "      <td>0</td>\n",
       "      <td>0</td>\n",
       "      <td>0</td>\n",
       "      <td>0</td>\n",
       "      <td>1</td>\n",
       "    </tr>\n",
       "    <tr>\n",
       "      <th>21833</th>\n",
       "      <td>21834</td>\n",
       "      <td>20703.0</td>\n",
       "      <td>93.0</td>\n",
       "      <td>0</td>\n",
       "      <td>NaN</td>\n",
       "      <td>NaN</td>\n",
       "      <td>1.0</td>\n",
       "      <td>2.0</td>\n",
       "      <td>AT-60    3</td>\n",
       "      <td>2001-06-05 11:33:39</td>\n",
       "      <td>...</td>\n",
       "      <td>4</td>\n",
       "      <td>records100/21000/21834_lr</td>\n",
       "      <td>records500/21000/21834_hr</td>\n",
       "      <td>NORM</td>\n",
       "      <td>0</td>\n",
       "      <td>0</td>\n",
       "      <td>0</td>\n",
       "      <td>1</td>\n",
       "      <td>0</td>\n",
       "      <td>0</td>\n",
       "    </tr>\n",
       "    <tr>\n",
       "      <th>21834</th>\n",
       "      <td>21835</td>\n",
       "      <td>19311.0</td>\n",
       "      <td>59.0</td>\n",
       "      <td>1</td>\n",
       "      <td>NaN</td>\n",
       "      <td>NaN</td>\n",
       "      <td>1.0</td>\n",
       "      <td>2.0</td>\n",
       "      <td>AT-60    3</td>\n",
       "      <td>2001-06-08 10:30:27</td>\n",
       "      <td>...</td>\n",
       "      <td>2</td>\n",
       "      <td>records100/21000/21835_lr</td>\n",
       "      <td>records500/21000/21835_hr</td>\n",
       "      <td>STTC</td>\n",
       "      <td>0</td>\n",
       "      <td>0</td>\n",
       "      <td>0</td>\n",
       "      <td>0</td>\n",
       "      <td>0</td>\n",
       "      <td>1</td>\n",
       "    </tr>\n",
       "    <tr>\n",
       "      <th>21835</th>\n",
       "      <td>21836</td>\n",
       "      <td>8873.0</td>\n",
       "      <td>64.0</td>\n",
       "      <td>1</td>\n",
       "      <td>NaN</td>\n",
       "      <td>NaN</td>\n",
       "      <td>1.0</td>\n",
       "      <td>2.0</td>\n",
       "      <td>AT-60    3</td>\n",
       "      <td>2001-06-09 18:21:49</td>\n",
       "      <td>...</td>\n",
       "      <td>8</td>\n",
       "      <td>records100/21000/21836_lr</td>\n",
       "      <td>records500/21000/21836_hr</td>\n",
       "      <td>NORM</td>\n",
       "      <td>0</td>\n",
       "      <td>0</td>\n",
       "      <td>0</td>\n",
       "      <td>1</td>\n",
       "      <td>0</td>\n",
       "      <td>0</td>\n",
       "    </tr>\n",
       "    <tr>\n",
       "      <th>21836</th>\n",
       "      <td>21837</td>\n",
       "      <td>11744.0</td>\n",
       "      <td>68.0</td>\n",
       "      <td>0</td>\n",
       "      <td>NaN</td>\n",
       "      <td>NaN</td>\n",
       "      <td>1.0</td>\n",
       "      <td>2.0</td>\n",
       "      <td>AT-60    3</td>\n",
       "      <td>2001-06-11 16:43:01</td>\n",
       "      <td>...</td>\n",
       "      <td>9</td>\n",
       "      <td>records100/21000/21837_lr</td>\n",
       "      <td>records500/21000/21837_hr</td>\n",
       "      <td>NORM</td>\n",
       "      <td>0</td>\n",
       "      <td>0</td>\n",
       "      <td>0</td>\n",
       "      <td>1</td>\n",
       "      <td>0</td>\n",
       "      <td>0</td>\n",
       "    </tr>\n",
       "  </tbody>\n",
       "</table>\n",
       "<p>5 rows × 35 columns</p>\n",
       "</div>"
      ],
      "text/plain": [
       "       ecg_id  patient_id   age  sex  height  weight  nurse  site      device  \\\n",
       "21832   21833     17180.0  67.0    1     NaN     NaN    1.0   2.0  AT-60    3   \n",
       "21833   21834     20703.0  93.0    0     NaN     NaN    1.0   2.0  AT-60    3   \n",
       "21834   21835     19311.0  59.0    1     NaN     NaN    1.0   2.0  AT-60    3   \n",
       "21835   21836      8873.0  64.0    1     NaN     NaN    1.0   2.0  AT-60    3   \n",
       "21836   21837     11744.0  68.0    0     NaN     NaN    1.0   2.0  AT-60    3   \n",
       "\n",
       "            recording_date  ... strat_fold                filename_lr  \\\n",
       "21832  2001-05-31 09:14:35  ...          7  records100/21000/21833_lr   \n",
       "21833  2001-06-05 11:33:39  ...          4  records100/21000/21834_lr   \n",
       "21834  2001-06-08 10:30:27  ...          2  records100/21000/21835_lr   \n",
       "21835  2001-06-09 18:21:49  ...          8  records100/21000/21836_lr   \n",
       "21836  2001-06-11 16:43:01  ...          9  records100/21000/21837_lr   \n",
       "\n",
       "                     filename_hr diagnostic_superclass CD  HYP  MI  NORM  \\\n",
       "21832  records500/21000/21833_hr                  STTC  0    0   0     0   \n",
       "21833  records500/21000/21834_hr                  NORM  0    0   0     1   \n",
       "21834  records500/21000/21835_hr                  STTC  0    0   0     0   \n",
       "21835  records500/21000/21836_hr                  NORM  0    0   0     1   \n",
       "21836  records500/21000/21837_hr                  NORM  0    0   0     1   \n",
       "\n",
       "       NO_DIAG STTC  \n",
       "21832        0    1  \n",
       "21833        0    0  \n",
       "21834        0    1  \n",
       "21835        0    0  \n",
       "21836        0    0  \n",
       "\n",
       "[5 rows x 35 columns]"
      ]
     },
     "execution_count": 21,
     "metadata": {},
     "output_type": "execute_result"
    }
   ],
   "source": [
    "meta_data_df.tail()"
   ]
  },
  {
   "cell_type": "code",
   "execution_count": 22,
   "metadata": {},
   "outputs": [],
   "source": [
    "# Split data into train and test\n",
    "test_fold = 10\n",
    "\n",
    "# Train\n",
    "X_train = raw_signals[np.where(meta_data_df.strat_fold != test_fold)]\n",
    "y_train = meta_data_df[(meta_data_df.strat_fold != test_fold)].iloc[:,-6:]\n",
    "\n",
    "# Test\n",
    "X_test = raw_signals[np.where(meta_data_df.strat_fold == test_fold)]\n",
    "y_test = meta_data_df[meta_data_df.strat_fold == test_fold].iloc[:,-6:]"
   ]
  },
  {
   "cell_type": "markdown",
   "metadata": {},
   "source": [
    "Normalize the training and test data"
   ]
  },
  {
   "cell_type": "code",
   "execution_count": 23,
   "metadata": {},
   "outputs": [],
   "source": [
    "#We'll need to instantiate a StandardScaler for each channel\n",
    "scalers = {}\n",
    "\n",
    "#For each column, initiate a StandardScaler and fit and transform for all rows. Do the same for X_test\n",
    "for i in range(X_train.shape[2]):\n",
    "    scalers[i] = StandardScaler()\n",
    "    X_train[:, i, :] = scalers[i].fit_transform(X_train[:, i, :]) \n",
    "\n",
    "for i in range(X_test.shape[2]):\n",
    "    X_test[:, i, :] = scalers[i].transform(X_test[:, i, :]) "
   ]
  },
  {
   "cell_type": "markdown",
   "metadata": {},
   "source": [
    "We need to reshape X_train and X_test so that they can be used as input into the mtex-cnn architecture"
   ]
  },
  {
   "cell_type": "code",
   "execution_count": 24,
   "metadata": {},
   "outputs": [],
   "source": [
    "#Reshape the training data so that it can be input into the MTEX-CNN network\n",
    "X_train = X_train.reshape(X_train.shape[0], X_train.shape[1], 1, X_train.shape[2])"
   ]
  },
  {
   "cell_type": "code",
   "execution_count": 25,
   "metadata": {},
   "outputs": [
    {
     "data": {
      "text/plain": [
       "(19634, 1000, 1, 12)"
      ]
     },
     "execution_count": 25,
     "metadata": {},
     "output_type": "execute_result"
    }
   ],
   "source": [
    "X_train.shape"
   ]
  },
  {
   "cell_type": "code",
   "execution_count": 26,
   "metadata": {},
   "outputs": [],
   "source": [
    "#Also reshape X_test\n",
    "X_test = X_test.reshape(X_test.shape[0], X_test.shape[1], 1, X_test.shape[2])"
   ]
  },
  {
   "cell_type": "code",
   "execution_count": 27,
   "metadata": {},
   "outputs": [
    {
     "data": {
      "text/plain": [
       "(19634, 6)"
      ]
     },
     "execution_count": 27,
     "metadata": {},
     "output_type": "execute_result"
    }
   ],
   "source": [
    "#Sanity checking y_train\n",
    "y_train.shape"
   ]
  },
  {
   "cell_type": "markdown",
   "metadata": {},
   "source": [
    "<a id=part-4-2-defining-and-running-mtex-cnn></a>"
   ]
  },
  {
   "cell_type": "markdown",
   "metadata": {},
   "source": [
    "### Part 4.2: Defining and running MTEX-CNN"
   ]
  },
  {
   "cell_type": "markdown",
   "metadata": {},
   "source": [
    "Set up an MTEX-CNN."
   ]
  },
  {
   "cell_type": "code",
   "execution_count": 28,
   "metadata": {},
   "outputs": [],
   "source": [
    "#Define Convolutional layer filter numbers\n",
    "fil = 64\n",
    "double_fil = fil * 2\n",
    "\n",
    "\n",
    "mtex_cnn = Sequential()\n",
    "\n",
    "'''\n",
    "The first part of the model consists of a series of 2d Convolutional layers with 'half padding', which seems to be\n",
    "the same as 'same' padding in keras. Kernel size should be the column size, while stride is explicitly defined\n",
    "as 2x1\n",
    "'''\n",
    "mtex_cnn.add(Conv2D(fil, activation='relu', kernel_size=(8,1), strides = (2,1), \n",
    "                    input_shape = (1000,1, 12), padding='same'))\n",
    "\n",
    "# We will add one grad-CAM layer after this Conv2D layer\n",
    "mtex_cnn.add(Conv2D(double_fil, activation='relu', kernel_size=(6,1), strides = (2,1), padding='same'))\n",
    "mtex_cnn.add(Dropout(0.4))\n",
    "\n",
    "'''\n",
    "Add the 1x1 convolutional layer that is at the end of the convolutional 2d layers\n",
    "'''\n",
    "mtex_cnn.add(Conv2D(double_fil, activation='relu', kernel_size=(1,1)))\n",
    "\n",
    "\"\"\"\n",
    "The third part of the mtex-cnn architecture is a series of stacked 1D covolutional layers followed by 2 dense layers,\n",
    "the second of which is the output layer of the network\n",
    "\"\"\"\n",
    "# We will add the second, final grad-CAM layer after this Conv1D layer\n",
    "mtex_cnn.add(Conv1D(double_fil, activation='relu', strides = 2, kernel_size=2, padding='same'))\n",
    "mtex_cnn.add(Dropout(0.4))\n",
    "\n",
    "\"\"\"\n",
    "Flatten the output of the Conv1D filters\n",
    "\"\"\"\n",
    "mtex_cnn.add(Flatten())\n",
    "\n",
    "\"\"\"\n",
    "The final aspect of the model is 2 dense layers that takes the flattened 1D vector as input and is then connected to\n",
    "an output softmax activated dense layer that assigns the probabilities of belonging to different classes\n",
    "\"\"\"\n",
    "mtex_cnn.add(Dense(10, activation = 'relu'))\n",
    "mtex_cnn.add(Dense(6, activation = 'softmax'))\n",
    "\n",
    "#Compile the network\n",
    "mtex_cnn.compile(loss='categorical_crossentropy', optimizer=tf.keras.optimizers.Adam(lr=0.01), metrics=['acc'])"
   ]
  },
  {
   "cell_type": "code",
   "execution_count": 29,
   "metadata": {},
   "outputs": [
    {
     "name": "stdout",
     "output_type": "stream",
     "text": [
      "Model: \"sequential_1\"\n",
      "_________________________________________________________________\n",
      "Layer (type)                 Output Shape              Param #   \n",
      "=================================================================\n",
      "conv2d_3 (Conv2D)            (None, 500, 1, 64)        6208      \n",
      "_________________________________________________________________\n",
      "conv2d_4 (Conv2D)            (None, 250, 1, 128)       49280     \n",
      "_________________________________________________________________\n",
      "dropout_2 (Dropout)          (None, 250, 1, 128)       0         \n",
      "_________________________________________________________________\n",
      "conv2d_5 (Conv2D)            (None, 250, 1, 128)       16512     \n",
      "_________________________________________________________________\n",
      "conv1d_1 (Conv1D)            (None, 250, 1, 128)       32896     \n",
      "_________________________________________________________________\n",
      "dropout_3 (Dropout)          (None, 250, 1, 128)       0         \n",
      "_________________________________________________________________\n",
      "flatten_1 (Flatten)          (None, 32000)             0         \n",
      "_________________________________________________________________\n",
      "dense_2 (Dense)              (None, 10)                320010    \n",
      "_________________________________________________________________\n",
      "dense_3 (Dense)              (None, 6)                 66        \n",
      "=================================================================\n",
      "Total params: 424,972\n",
      "Trainable params: 424,972\n",
      "Non-trainable params: 0\n",
      "_________________________________________________________________\n"
     ]
    }
   ],
   "source": [
    "mtex_cnn.summary()"
   ]
  },
  {
   "cell_type": "code",
   "execution_count": 22,
   "metadata": {},
   "outputs": [
    {
     "name": "stdout",
     "output_type": "stream",
     "text": [
      "Epoch 1/50\n",
      "77/77 [==============================] - 5s 47ms/step - loss: 1.0315 - acc: 0.6416 - val_loss: 1.0458 - val_acc: 0.6373\n",
      "Epoch 2/50\n",
      "77/77 [==============================] - 3s 37ms/step - loss: 0.9716 - acc: 0.6629 - val_loss: 0.9942 - val_acc: 0.6614\n",
      "Epoch 3/50\n",
      "77/77 [==============================] - 3s 37ms/step - loss: 0.9262 - acc: 0.6762 - val_loss: 0.9773 - val_acc: 0.6668\n",
      "Epoch 4/50\n",
      "77/77 [==============================] - 3s 38ms/step - loss: 0.9129 - acc: 0.6808 - val_loss: 0.9545 - val_acc: 0.6791\n",
      "Epoch 5/50\n",
      "77/77 [==============================] - 3s 38ms/step - loss: 0.8830 - acc: 0.6917 - val_loss: 0.9332 - val_acc: 0.6795\n",
      "Epoch 6/50\n",
      "77/77 [==============================] - 3s 38ms/step - loss: 0.8782 - acc: 0.6896 - val_loss: 0.9485 - val_acc: 0.6673\n",
      "Epoch 7/50\n",
      "77/77 [==============================] - 3s 38ms/step - loss: 0.8554 - acc: 0.7015 - val_loss: 0.9603 - val_acc: 0.6568\n",
      "Epoch 8/50\n",
      "77/77 [==============================] - 3s 37ms/step - loss: 0.8705 - acc: 0.6938 - val_loss: 0.9674 - val_acc: 0.6754\n",
      "Epoch 9/50\n",
      "77/77 [==============================] - 3s 37ms/step - loss: 0.8361 - acc: 0.7093 - val_loss: 0.9519 - val_acc: 0.6577\n",
      "Epoch 10/50\n",
      "77/77 [==============================] - 3s 37ms/step - loss: 0.8318 - acc: 0.7114 - val_loss: 0.9547 - val_acc: 0.6823\n",
      "Epoch 11/50\n",
      "77/77 [==============================] - 3s 37ms/step - loss: 0.8360 - acc: 0.7083 - val_loss: 0.9408 - val_acc: 0.6845\n",
      "Epoch 12/50\n",
      "77/77 [==============================] - 3s 37ms/step - loss: 0.8111 - acc: 0.7205 - val_loss: 0.9062 - val_acc: 0.6827\n",
      "Epoch 13/50\n",
      "77/77 [==============================] - 3s 38ms/step - loss: 0.7987 - acc: 0.7254 - val_loss: 0.8878 - val_acc: 0.6990\n",
      "Epoch 14/50\n",
      "77/77 [==============================] - 3s 38ms/step - loss: 0.7942 - acc: 0.7256 - val_loss: 0.8854 - val_acc: 0.7072\n",
      "Epoch 15/50\n",
      "77/77 [==============================] - 3s 38ms/step - loss: 0.7877 - acc: 0.7280 - val_loss: 0.8718 - val_acc: 0.7027\n",
      "Epoch 16/50\n",
      "77/77 [==============================] - 3s 38ms/step - loss: 0.7708 - acc: 0.7344 - val_loss: 0.9157 - val_acc: 0.6909\n",
      "Epoch 17/50\n",
      "77/77 [==============================] - 3s 38ms/step - loss: 0.7800 - acc: 0.7327 - val_loss: 0.9410 - val_acc: 0.6841\n",
      "Epoch 18/50\n",
      "77/77 [==============================] - 3s 38ms/step - loss: 0.7561 - acc: 0.7364 - val_loss: 0.9192 - val_acc: 0.6904\n",
      "Epoch 19/50\n",
      "77/77 [==============================] - 3s 37ms/step - loss: 0.7599 - acc: 0.7372 - val_loss: 0.9170 - val_acc: 0.6963\n",
      "Epoch 20/50\n",
      "77/77 [==============================] - 3s 37ms/step - loss: 0.7545 - acc: 0.7389 - val_loss: 0.9482 - val_acc: 0.6823\n",
      "Epoch 21/50\n",
      "77/77 [==============================] - 3s 38ms/step - loss: 0.7485 - acc: 0.7429 - val_loss: 0.9425 - val_acc: 0.6764\n",
      "Epoch 22/50\n",
      "77/77 [==============================] - 3s 38ms/step - loss: 0.7347 - acc: 0.7469 - val_loss: 0.8941 - val_acc: 0.7068\n",
      "Epoch 23/50\n",
      "77/77 [==============================] - 3s 38ms/step - loss: 0.7268 - acc: 0.7498 - val_loss: 0.9301 - val_acc: 0.6868\n",
      "Epoch 24/50\n",
      "77/77 [==============================] - 3s 38ms/step - loss: 0.7255 - acc: 0.7491 - val_loss: 0.8916 - val_acc: 0.7004\n",
      "Epoch 25/50\n",
      "77/77 [==============================] - 3s 38ms/step - loss: 0.7251 - acc: 0.7489 - val_loss: 0.9158 - val_acc: 0.6995\n",
      "Epoch 26/50\n",
      "77/77 [==============================] - 3s 38ms/step - loss: 0.7188 - acc: 0.7493 - val_loss: 0.9095 - val_acc: 0.6995\n",
      "Epoch 27/50\n",
      "77/77 [==============================] - 3s 38ms/step - loss: 0.7119 - acc: 0.7531 - val_loss: 0.9115 - val_acc: 0.7036\n",
      "Epoch 28/50\n",
      "77/77 [==============================] - 3s 38ms/step - loss: 0.7027 - acc: 0.7538 - val_loss: 0.8947 - val_acc: 0.7031\n",
      "Epoch 29/50\n",
      "77/77 [==============================] - 3s 38ms/step - loss: 0.7017 - acc: 0.7589 - val_loss: 0.8947 - val_acc: 0.7036\n",
      "Epoch 30/50\n",
      "77/77 [==============================] - 3s 38ms/step - loss: 0.6983 - acc: 0.7565 - val_loss: 0.9071 - val_acc: 0.7059\n",
      "Epoch 31/50\n",
      "77/77 [==============================] - 3s 38ms/step - loss: 0.7079 - acc: 0.7553 - val_loss: 0.9440 - val_acc: 0.6959\n",
      "Epoch 32/50\n",
      "77/77 [==============================] - 3s 38ms/step - loss: 0.6906 - acc: 0.7595 - val_loss: 0.8902 - val_acc: 0.6972\n",
      "Epoch 33/50\n",
      "77/77 [==============================] - 3s 38ms/step - loss: 0.6903 - acc: 0.7632 - val_loss: 0.8731 - val_acc: 0.6945\n",
      "Epoch 34/50\n",
      "77/77 [==============================] - 3s 38ms/step - loss: 0.6866 - acc: 0.7593 - val_loss: 0.9189 - val_acc: 0.6986\n",
      "Epoch 35/50\n",
      "77/77 [==============================] - 3s 38ms/step - loss: 0.6783 - acc: 0.7631 - val_loss: 0.8802 - val_acc: 0.7059\n",
      "Epoch 36/50\n",
      "77/77 [==============================] - 3s 38ms/step - loss: 0.6829 - acc: 0.7619 - val_loss: 0.9276 - val_acc: 0.7054\n",
      "Epoch 37/50\n",
      "77/77 [==============================] - 3s 38ms/step - loss: 0.6739 - acc: 0.7628 - val_loss: 0.8958 - val_acc: 0.7081\n",
      "Epoch 38/50\n",
      "77/77 [==============================] - 3s 38ms/step - loss: 0.6703 - acc: 0.7663 - val_loss: 0.9062 - val_acc: 0.7031\n",
      "Epoch 39/50\n",
      "77/77 [==============================] - 3s 38ms/step - loss: 0.6718 - acc: 0.7644 - val_loss: 0.9188 - val_acc: 0.7018\n",
      "Epoch 40/50\n",
      "77/77 [==============================] - 3s 38ms/step - loss: 0.6686 - acc: 0.7686 - val_loss: 0.8713 - val_acc: 0.7013\n",
      "Epoch 41/50\n",
      "77/77 [==============================] - 3s 37ms/step - loss: 0.6752 - acc: 0.7624 - val_loss: 0.8992 - val_acc: 0.7149\n",
      "Epoch 42/50\n",
      "77/77 [==============================] - 3s 38ms/step - loss: 0.6575 - acc: 0.7715 - val_loss: 0.9096 - val_acc: 0.7049\n",
      "Epoch 43/50\n",
      "77/77 [==============================] - 3s 38ms/step - loss: 0.6520 - acc: 0.7712 - val_loss: 0.9121 - val_acc: 0.6995\n",
      "Epoch 44/50\n",
      "77/77 [==============================] - 3s 38ms/step - loss: 0.6584 - acc: 0.7695 - val_loss: 0.8791 - val_acc: 0.7108\n",
      "Epoch 45/50\n",
      "77/77 [==============================] - 3s 37ms/step - loss: 0.6545 - acc: 0.7694 - val_loss: 0.8724 - val_acc: 0.7131\n",
      "Epoch 46/50\n",
      "77/77 [==============================] - 3s 38ms/step - loss: 0.6474 - acc: 0.7716 - val_loss: 0.9727 - val_acc: 0.6963\n",
      "Epoch 47/50\n",
      "77/77 [==============================] - 3s 38ms/step - loss: 0.6415 - acc: 0.7778 - val_loss: 0.9504 - val_acc: 0.7027\n",
      "Epoch 48/50\n",
      "77/77 [==============================] - 3s 38ms/step - loss: 0.6422 - acc: 0.7715 - val_loss: 0.9255 - val_acc: 0.6977\n",
      "Epoch 49/50\n",
      "77/77 [==============================] - 3s 38ms/step - loss: 0.6292 - acc: 0.7777 - val_loss: 0.8977 - val_acc: 0.7040\n",
      "Epoch 50/50\n",
      "77/77 [==============================] - 3s 38ms/step - loss: 0.6423 - acc: 0.7722 - val_loss: 0.9715 - val_acc: 0.6886\n"
     ]
    }
   ],
   "source": [
    "history = mtex_cnn.fit(X_train, y_train, validation_data=(X_test, y_test), epochs=50, batch_size=256, verbose=1)"
   ]
  },
  {
   "cell_type": "markdown",
   "metadata": {},
   "source": [
    "<a id=part-4-3-results></a>"
   ]
  },
  {
   "cell_type": "markdown",
   "metadata": {},
   "source": [
    "### Part 4.3: Results"
   ]
  },
  {
   "cell_type": "markdown",
   "metadata": {},
   "source": [
    "Plot the loss/validation loss and accuracy/validation accuracy respectively"
   ]
  },
  {
   "cell_type": "code",
   "execution_count": 30,
   "metadata": {},
   "outputs": [
    {
     "data": {
      "text/plain": [
       "Text(0.5, 0, 'Epochs')"
      ]
     },
     "execution_count": 30,
     "metadata": {},
     "output_type": "execute_result"
    },
    {
     "data": {
      "image/png": "[encoded data removed]",
      "text/plain": [
       "<Figure size 432x288 with 1 Axes>"
      ]
     },
     "metadata": {
      "needs_background": "light"
     },
     "output_type": "display_data"
    }
   ],
   "source": [
    "plt.plot(history.history['loss'], color='blue')\n",
    "plt.plot(history.history['val_loss'], color='orange')\n",
    "plt.title('Loss (blue) vs Validation Loss (orange)')\n",
    "plt.ylabel('Loss')\n",
    "plt.xlabel('Epochs')"
   ]
  },
  {
   "cell_type": "code",
   "execution_count": 32,
   "metadata": {},
   "outputs": [
    {
     "data": {
      "text/plain": [
       "Text(0.5, 0, 'Epochs')"
      ]
     },
     "execution_count": 32,
     "metadata": {},
     "output_type": "execute_result"
    },
    {
     "data": {
      "image/png": "[encoded data removed]",
      "text/plain": [
       "<Figure size 432x288 with 1 Axes>"
      ]
     },
     "metadata": {
      "needs_background": "light"
     },
     "output_type": "display_data"
    }
   ],
   "source": [
    "plt.plot(history.history['acc'], color='blue')\n",
    "plt.plot(history.history['val_acc'], color='orange')\n",
    "plt.title('Accuracy (blue) vs Validation Accuracy (orange)')\n",
    "plt.ylabel('Accuracy')\n",
    "plt.xlabel('Epochs')"
   ]
  },
  {
   "cell_type": "markdown",
   "metadata": {},
   "source": [
    "Create the AUC curve to compare with benchmarks"
   ]
  },
  {
   "cell_type": "code",
   "execution_count": 58,
   "metadata": {},
   "outputs": [
    {
     "name": "stdout",
     "output_type": "stream",
     "text": [
      "69/69 [==============================] - 0s 4ms/step\n"
     ]
    }
   ],
   "source": [
    "# predict probabilities for test set\n",
    "y_pred = mtex_cnn.predict(X_test, verbose=1)"
   ]
  },
  {
   "cell_type": "code",
   "execution_count": 51,
   "metadata": {},
   "outputs": [
    {
     "name": "stdout",
     "output_type": "stream",
     "text": [
      "ROC AUC: 0.843816\n"
     ]
    }
   ],
   "source": [
    "auc = roc_auc_score(y_test, y_pred)\n",
    "print('ROC AUC: %f' % auc)"
   ]
  },
  {
   "cell_type": "markdown",
   "metadata": {},
   "source": [
    "Calculate F1-score to compare with benchmarks"
   ]
  },
  {
   "cell_type": "code",
   "execution_count": 92,
   "metadata": {},
   "outputs": [],
   "source": [
    "#Convert the one hot encoded probabilities to the class\n",
    "y_pred_rounded = np.argmax(y_pred, axis=1)\n",
    "y_test_rounded = np.argmax(y_test.values, axis=1)"
   ]
  },
  {
   "cell_type": "code",
   "execution_count": 94,
   "metadata": {},
   "outputs": [
    {
     "name": "stdout",
     "output_type": "stream",
     "text": [
      "              precision    recall  f1-score   support\n",
      "\n",
      "           0       0.70      0.57      0.63       398\n",
      "           1       0.22      0.05      0.09        73\n",
      "           2       0.62      0.12      0.20       256\n",
      "           3       0.69      0.95      0.80       913\n",
      "           4       0.88      0.35      0.50        40\n",
      "           5       0.70      0.71      0.70       523\n",
      "\n",
      "    accuracy                           0.69      2203\n",
      "   macro avg       0.63      0.46      0.49      2203\n",
      "weighted avg       0.67      0.69      0.65      2203\n",
      "\n"
     ]
    }
   ],
   "source": [
    "print(classification_report(y_test_rounded, y_pred_rounded))"
   ]
  },
  {
   "cell_type": "code",
   "execution_count": 95,
   "metadata": {},
   "outputs": [
    {
     "data": {
      "text/plain": [
       "Index(['CD', 'HYP', 'MI', 'NORM', 'NO_DIAG', 'STTC'], dtype='object')"
      ]
     },
     "execution_count": 95,
     "metadata": {},
     "output_type": "execute_result"
    }
   ],
   "source": [
    "y_test.columns"
   ]
  },
  {
   "cell_type": "markdown",
   "metadata": {},
   "source": [
    "<a id=part-4-4-analysis></a>"
   ]
  },
  {
   "cell_type": "markdown",
   "metadata": {},
   "source": [
    "### Part 4.4: Analysis"
   ]
  },
  {
   "cell_type": "markdown",
   "metadata": {},
   "source": [
    "The MTEX-CNN has a validation score of around 68-70%, which is around 10% higher than the Cascading Classifier. The current [benchmark for PTB-XL diagnostic superclass classification has an AUC score of 93%](https://deepai.org/publication/deep-learning-for-ecg-analysis-benchmarks-and-insights-from-ptb-xl), with the naive score of 50%. This MTEX-CNN in this notebook has an AUC score of 84%. Therefore, while the MTEX-CNN model presented here did better than the Naive score, it falls 9-10% short of the 93%. It does have higher bias and lower variance than the [Cascading Classifier](./04a_cascading_classifiers_modelling.ipynb). The maximum F1-score is 0.80, which is just 0.2 off the benchmark of 0.82.\n",
    "\n",
    "The AUC [measures the performance of a binary classifier averaged across all possible decision thresholds](https://stackoverflow.com/questions/47104129/getting-a-low-roc-auc-score-but-a-high-accuracy). [The threshold in scikit learn is 0.5 for binary classification and whichever class has the greatest probability for multiclass classification](https://stackoverflow.com/questions/19984957/scikit-learn-predict-default-threshold). \n",
    "\n",
    "Part of the explanation for this lower score is because the benchmark uses Resnet, and thus uses a different architecture. MTEX-CNN has not been tested on ECG data as of February 2021 and is meant to be explainable with a couple of grad-CAM (grad Class Activation Maps) layers added on to them. A library that implements grad-CAM is [eli5](https://pypi.org/project/eli5/) (which stands for \"Explain it Like I'm 5\"). Unsuccessful attempts were made using [tf-keras-vis](https://github.com/keisen/tf-keras-vis) and eli5. Future iterations of this project can extend the work done here with a working implementation of grad-CAM."
   ]
  }
 ],
 "metadata": {
  "kernelspec": {
   "display_name": "Python 3",
   "language": "python",
   "name": "python3"
  },
  "language_info": {
   "codemirror_mode": {
    "name": "ipython",
    "version": 3
   },
   "file_extension": ".py",
   "mimetype": "text/x-python",
   "name": "python",
   "nbconvert_exporter": "python",
   "pygments_lexer": "ipython3",
   "version": "3.8.5"
  }
 },
 "nbformat": 4,
 "nbformat_minor": 4
}
